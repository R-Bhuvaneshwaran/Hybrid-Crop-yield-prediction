{
 "cells": [
  {
   "cell_type": "code",
   "execution_count": 50,
   "id": "61454084",
   "metadata": {},
   "outputs": [
    {
     "name": "stdout",
     "output_type": "stream",
     "text": [
      "MSE = 161332944.45379442\n",
      "MAE = 3912.1667650182935\n",
      "R2 score = 0.9782339799617266\n",
      "12701.690614000738\n"
     ]
    }
   ],
   "source": [
    "from sklearn.tree import DecisionTreeRegressor\n",
    "from sklearn.metrics import r2_score\n",
    "from sklearn.metrics import mean_squared_error as mse\n",
    "from sklearn.metrics import mean_absolute_error as mae\n",
    "import math  \n",
    "import numpy as np  \n",
    "#Decision Tree Regressor\n",
    "dt = DecisionTreeRegressor()\n",
    "dt.fit(x_train , y_train)\n",
    "y_pred = dt.predict(x_test)\n",
    "dt_score = r2_score(y_test,y_pred)\n",
    "MSE=mse(y_pred,y_test)\n",
    "MAE=mae(y_pred,y_test)\n",
    "print(\"MSE =\", MSE)\n",
    "print(\"MAE =\", MAE)\n",
    "print(\"R2 score =\",dt_score)\n",
    "MSE = np.square(np.subtract(y_test,y_pred)).mean()   \n",
    "rsme = math.sqrt(MSE)  \n",
    "print(rsme)  "
   ]
  },
  {
   "cell_type": "code",
   "execution_count": 52,
   "id": "f19703b0",
   "metadata": {},
   "outputs": [
    {
     "name": "stdout",
     "output_type": "stream",
     "text": [
      "MSE = 113755545.41237225\n",
      "MAE = 3948.4131830520473\n",
      "R2 score = 0.9846528215964003\n"
     ]
    }
   ],
   "source": [
    "#Ensemble Decision Tree Regressor\n",
    "from sklearn.ensemble import BaggingRegressor\n",
    "dt =BaggingRegressor(DecisionTreeRegressor())\n",
    "dt.fit(x_train , y_train)\n",
    "y_pred = dt.predict(x_test)\n",
    "edt_score = r2_score(y_test,y_pred)\n",
    "MSE=mse(y_pred,y_test)\n",
    "MAE=mae(y_pred,y_test)\n",
    "print(\"MSE =\", MSE)\n",
    "print(\"MAE =\", MAE)\n",
    "print(\"R2 score =\",edt_score)"
   ]
  },
  {
   "cell_type": "code",
   "execution_count": 53,
   "id": "6ecf026b",
   "metadata": {},
   "outputs": [
    {
     "data": {
      "text/plain": [
       "-0.1858710173667839"
      ]
     },
     "execution_count": 53,
     "metadata": {},
     "output_type": "execute_result"
    }
   ],
   "source": [
    "#Support Vector Regression\n",
    "from sklearn.svm import SVR\n",
    "sv = SVR(kernel='rbf',C=1e3,gamma=3,epsilon=0.01)\n",
    "#y_rbf=sv.fit(X,y).predict(X)\n",
    "sv.fit(x_train , y_train)\n",
    "y_pred = sv.predict(x_test)\n",
    "sv_score = r2_score(y_test,y_pred)\n",
    "sv_score"
   ]
  },
  {
   "cell_type": "code",
   "execution_count": 55,
   "id": "e30c933b",
   "metadata": {},
   "outputs": [
    {
     "name": "stdout",
     "output_type": "stream",
     "text": [
      "MSE = 72746145.75960207\n",
      "MAE = 2780.4144364451786\n",
      "R2 score = 0.9901855503122976\n"
     ]
    }
   ],
   "source": [
    "#Ensemble Extra Trees Regressor\n",
    "from sklearn.ensemble import ExtraTreesRegressor\n",
    "dt = ExtraTreesRegressor()\n",
    "dt.fit(x_train , y_train)\n",
    "y_pred = dt.predict(x_test)\n",
    "Ext_score = r2_score(y_test,y_pred)\n",
    "MSE=mse(y_pred,y_test)\n",
    "MAE=mae(y_pred,y_test)\n",
    "print(\"MSE =\", MSE)\n",
    "print(\"MAE =\", MAE)\n",
    "print(\"R2 score =\",Ext_score)"
   ]
  }
 ],
 "metadata": {
  "kernelspec": {
   "display_name": "Python 3 (ipykernel)",
   "language": "python",
   "name": "python3"
  },
  "language_info": {
   "codemirror_mode": {
    "name": "ipython",
    "version": 3
   },
   "file_extension": ".py",
   "mimetype": "text/x-python",
   "name": "python",
   "nbconvert_exporter": "python",
   "pygments_lexer": "ipython3",
   "version": "3.9.13"
  }
 },
 "nbformat": 4,
 "nbformat_minor": 5
}
