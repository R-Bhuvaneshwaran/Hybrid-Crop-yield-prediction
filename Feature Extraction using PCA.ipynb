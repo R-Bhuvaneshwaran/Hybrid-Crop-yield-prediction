{
 "cells": [
  {
   "cell_type": "code",
   "execution_count": 43,
   "id": "431d56a2",
   "metadata": {},
   "outputs": [],
   "source": [
    "#Feature Extraction using PCA\n",
    "from sklearn.decomposition import PCA\n",
    "pca=PCA(n_components=2)"
   ]
  },
  {
   "cell_type": "code",
   "execution_count": 44,
   "id": "7e4c5abe",
   "metadata": {},
   "outputs": [
    {
     "data": {
      "text/plain": [
       "PCA(n_components=2)"
      ]
     },
     "execution_count": 44,
     "metadata": {},
     "output_type": "execute_result"
    }
   ],
   "source": [
    "pca.fit(scaled_data)"
   ]
  },
  {
   "cell_type": "code",
   "execution_count": 45,
   "id": "64e37839",
   "metadata": {},
   "outputs": [
    {
     "data": {
      "text/plain": [
       "(28242, 115)"
      ]
     },
     "execution_count": 45,
     "metadata": {},
     "output_type": "execute_result"
    }
   ],
   "source": [
    "x_pca=pca.transform(scaled_data)\n",
    "scaled_data.shape"
   ]
  },
  {
   "cell_type": "code",
   "execution_count": 46,
   "id": "5d040999",
   "metadata": {},
   "outputs": [
    {
     "data": {
      "text/plain": [
       "(28242, 2)"
      ]
     },
     "execution_count": 46,
     "metadata": {},
     "output_type": "execute_result"
    }
   ],
   "source": [
    "x_pca.shape"
   ]
  },
  {
   "cell_type": "code",
   "execution_count": 47,
   "id": "a3a7d492",
   "metadata": {},
   "outputs": [
    {
     "data": {
      "text/plain": [
       "array([[-1.63707532,  0.47329419, -0.61636612, ..., -0.33763138,\n",
       "        -0.39770719, -0.17583529],\n",
       "       [-1.63707532,  0.47329419, -0.61636612, ..., -0.33763138,\n",
       "        -0.39770719, -0.17583529],\n",
       "       [-1.63707532,  0.47329419, -0.61636612, ..., -0.33763138,\n",
       "        -0.39770719, -0.17583529],\n",
       "       ...,\n",
       "       [ 1.62451233, -0.69323228, -0.57585308, ..., -0.33763138,\n",
       "        -0.39770719, -0.17583529],\n",
       "       [ 1.62451233, -0.69323228, -0.57585308, ...,  2.96180998,\n",
       "        -0.39770719, -0.17583529],\n",
       "       [ 1.62451233, -0.69323228, -0.57585308, ..., -0.33763138,\n",
       "         2.51441269, -0.17583529]])"
      ]
     },
     "execution_count": 47,
     "metadata": {},
     "output_type": "execute_result"
    }
   ],
   "source": [
    "scaled_data"
   ]
  },
  {
   "cell_type": "code",
   "execution_count": 48,
   "id": "7cef4c0c",
   "metadata": {},
   "outputs": [
    {
     "data": {
      "text/plain": [
       "array([[-0.64276389, -0.35949832],\n",
       "       [-0.79861165, -0.22841785],\n",
       "       [-0.37708468, -0.41438431],\n",
       "       ...,\n",
       "       [-0.88435284, -0.46648346],\n",
       "       [-0.51088785, -0.7840768 ],\n",
       "       [-1.25001525, -0.38332258]])"
      ]
     },
     "execution_count": 48,
     "metadata": {},
     "output_type": "execute_result"
    }
   ],
   "source": [
    "x_pca"
   ]
  }
 ],
 "metadata": {
  "kernelspec": {
   "display_name": "Python 3 (ipykernel)",
   "language": "python",
   "name": "python3"
  },
  "language_info": {
   "codemirror_mode": {
    "name": "ipython",
    "version": 3
   },
   "file_extension": ".py",
   "mimetype": "text/x-python",
   "name": "python",
   "nbconvert_exporter": "python",
   "pygments_lexer": "ipython3",
   "version": "3.9.13"
  }
 },
 "nbformat": 4,
 "nbformat_minor": 5
}
